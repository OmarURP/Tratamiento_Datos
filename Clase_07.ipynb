{
 "cells": [
  {
   "cell_type": "markdown",
   "id": "def6e1e8",
   "metadata": {},
   "source": [
    "# **Tarea 07.- Biblioteca estándar en Phyton**\n",
    "---\n",
    "## *Subcoordinación de Posgrado y Educación Continua.*\n",
    "### [Instituto Mexicano de Tecnología del Agua](https://www.gob.mx/imta).<br>\n",
    "\n",
    "<img src=\"Imagenes/imta_logo.png\" style=\"height: 5em; vertical-align: middle;\">\n",
    "<img src=\"Imagenes/Mexico.jpg\" style=\"height: 5em; vertical-align: middle;\">\n",
    "\n",
    "**Alumno: Ing. Omar Ulises Robles Pereyra** <br>\n",
    "**Docente: Dr. Gabriel Ruiz Martinez** <br>\n",
    "\n",
    "[![Open In Colab](Imagenes/colab-badge.svg)](https://colab.research.google.com/github/OmarURP/Tratamiento_Datos/blob/master/Clase_07.ipynb)\n",
    "\n",
    "---\n",
    "\n",
    "#### **Basado en los apuntes del Dr. Gabriel Ruiz Martinez**\n",
    "\n",
    "**Descripción de la actividad:**\n",
    "- Crear una biblioteca estándar de Python que se compone de funciones que le permiten realizar la suma, resta, multiplicación y división de 2 valores numéricos. <br>\n",
    "\n",
    "**Objetivos de aprendizaje**\n",
    "- Comprender cómo definir e implementar funciones en Python.\n",
    "- Aprender a implementar una librería estándar en Python, mediante archivos `__init__`.\n",
    "- Aprenda a organizar el código de una manera que promueva la reutilización y la claridad.\n",
    "\n",
    "**Referencias:**<br>\n",
    "- https://realpython.com/python-modules-packages/<br>\n",
    "- https://realpython.com/python-init-py/\n",
    "---"
   ]
  },
  {
   "cell_type": "code",
   "execution_count": 35,
   "id": "d3bfbf78",
   "metadata": {},
   "outputs": [
    {
     "name": "stdout",
     "output_type": "stream",
     "text": [
      "Directorio 'Libreria' creado exitosamente.\n"
     ]
    }
   ],
   "source": [
    "# Creando la estructura de directorios necesarios\n",
    "import os\n",
    "\n",
    "# Creando directorio para alojar la librería\n",
    "if not os.path.exists('./Resultados/Libreria'):\n",
    "    os.mkdir('./Resultados/Libreria')\n",
    "    print(\"Directorio 'Libreria' creado exitosamente.\")\n",
    "else:\n",
    "    print(\"El directorio 'Libreria' ya existe.\")"
   ]
  },
  {
   "cell_type": "code",
   "execution_count": 36,
   "id": "01e5ef60",
   "metadata": {},
   "outputs": [
    {
     "name": "stdout",
     "output_type": "stream",
     "text": [
      "Writing ./Resultados/Libreria/operaciones.py\n"
     ]
    }
   ],
   "source": [
    "%%writefile ./Resultados/Libreria/operaciones.py\n",
    "\"\"\"\n",
    "Módulo de operaciones aritméticas básicas.\n",
    "\n",
    "Este módulo contiene funciones para realizar operaciones aritméticas\n",
    "con dos valores numéricos. Incluye manejo de errores para casos como división\n",
    "por cero.\n",
    "\"\"\"\n",
    "\n",
    "def suma(a, b):\n",
    "    \"\"\"\n",
    "    Realiza la suma de dos números.\n",
    "\n",
    "    Args:\n",
    "        a (int o float): Primer número a sumar.\n",
    "        b (int o float): Segundo número a sumar.\n",
    "\n",
    "    Returns:\n",
    "        int o float: El resultado de a + b.\n",
    "    \"\"\"\n",
    "    return a + b\n",
    "\n",
    "\n",
    "def resta(a, b):\n",
    "    \"\"\"\n",
    "    Realiza la resta de dos números.\n",
    "\n",
    "    Args:\n",
    "        a (int o float): Número del cual se restará.\n",
    "        b (int o float): Número a restar.\n",
    "\n",
    "    Returns:\n",
    "        int o float: El resultado de a - b.\n",
    "    \"\"\"\n",
    "    return a - b\n",
    "\n",
    "\n",
    "def multiplicacion(a, b):\n",
    "    \"\"\"\n",
    "    Realiza la multiplicación de dos números.\n",
    "\n",
    "    Args:\n",
    "        a (int o float): Primer número a multiplicar.\n",
    "        b (int o float): Segundo número a multiplicar.\n",
    "\n",
    "    Returns:\n",
    "        int o float: El resultado de a * b.\n",
    "    \"\"\"\n",
    "    return a * b\n",
    "\n",
    "\n",
    "def division(a, b):\n",
    "    \"\"\"\n",
    "    Realiza la división de dos números.\n",
    "\n",
    "    Args:\n",
    "        a (int o float): Dividendo.\n",
    "        b (int o float): Divisor.\n",
    "\n",
    "    Returns:\n",
    "        float: El resultado de a / b.\n",
    "\n",
    "    Raises:\n",
    "        ZeroDivisionError: Si b es cero, ya que la división por cero no está\n",
    "                           permitida.\n",
    "    \"\"\"\n",
    "    if b == 0:\n",
    "        raise ZeroDivisionError(\"No se puede dividir por cero.\")\n",
    "    return a / b\n",
    "\n",
    "\n",
    "def potencia(base, exponente):\n",
    "    \"\"\"\n",
    "    Calcula la potencia de un número elevado a otro.\n",
    "\n",
    "    Esta función adicional demuestra originalidad al incluir una operación\n",
    "    matemática más avanzada, útil para cálculos exponenciales.\n",
    "\n",
    "    Args:\n",
    "        base (int o float): La base de la potencia.\n",
    "        exponente (int o float): El exponente al cual elevar la base.\n",
    "\n",
    "    Returns:\n",
    "        float: El resultado de base ** exponente.\n",
    "    \"\"\"\n",
    "    return base ** exponente"
   ]
  },
  {
   "cell_type": "code",
   "execution_count": 37,
   "id": "6c855c56",
   "metadata": {},
   "outputs": [
    {
     "name": "stdout",
     "output_type": "stream",
     "text": [
      "Writing ./Resultados/Libreria/__init__.py\n"
     ]
    }
   ],
   "source": [
    "%%writefile ./Resultados/Libreria/__init__.py\n",
    "\"\"\"\n",
    "Paquete aritmetica: Librería de operaciones aritméticas.\n",
    "\n",
    "Este paquete expone las funciones principales del módulo operaciones para\n",
    "un uso fácil e intuitivo.\n",
    "\n",
    "\"\"\"\n",
    "\n",
    "from .operaciones import suma, resta, multiplicacion, division, potencia\n",
    "\n",
    "__all__ = [\"suma\", \"resta\", \"multiplicacion\", \"division\", \"potencia\"]"
   ]
  },
  {
   "cell_type": "code",
   "execution_count": 38,
   "id": "11dc9a68",
   "metadata": {},
   "outputs": [
    {
     "name": "stdout",
     "output_type": "stream",
     "text": [
      "Archivos en el directorio 'Libreria':\n",
      " - operaciones.py\n",
      " - __init__.py\n"
     ]
    }
   ],
   "source": [
    "import os\n",
    "\n",
    "# Listar archivos en el directorio 07_Libreria\n",
    "files = os.listdir('./Resultados/Libreria')\n",
    "print(\"Archivos en el directorio 'Libreria':\")\n",
    "for file in files:\n",
    "    print(f\" - {file}\")"
   ]
  },
  {
   "cell_type": "code",
   "execution_count": 50,
   "id": "baaf9680",
   "metadata": {},
   "outputs": [
    {
     "name": "stdout",
     "output_type": "stream",
     "text": [
      "=== Pruebas de la Librería Aritmética ===\n",
      "\n",
      "Suma: 10 + 2 = 12\n",
      "Resta: 10 - 2 = 8\n",
      "Multiplicación: 10 * 2 = 20\n",
      "División: 10 / 2 = 5.0\n",
      "Potencia: 2 ^ 3 = 8\n"
     ]
    }
   ],
   "source": [
    "from Libreria import suma, resta, multiplicacion, division, potencia\n",
    "\n",
    "# Definir valores de ejemplo\n",
    "a = 10\n",
    "b = 2\n",
    "base = 2\n",
    "exponente = 3\n",
    "\n",
    "# Prueba de las funciones\n",
    "print(\"=== Pruebas de la Librería Aritmética ===\\n\")\n",
    "\n",
    "# Suma\n",
    "resultado_suma = suma(a, b)\n",
    "print(f\"Suma: {a} + {b} = {resultado_suma}\")\n",
    "\n",
    "# Resta\n",
    "resultado_resta = resta(a, b)\n",
    "print(f\"Resta: {a} - {b} = {resultado_resta}\")\n",
    "\n",
    "# Multiplicación\n",
    "resultado_multiplicacion = multiplicacion(a, b)\n",
    "print(f\"Multiplicación: {a} * {b} = {resultado_multiplicacion}\")\n",
    "\n",
    "# División\n",
    "try:\n",
    "    resultado_division = division(a, b)\n",
    "    print(f\"División: {a} / {b} = {resultado_division}\")\n",
    "except ZeroDivisionError as e:\n",
    "    print(f\"División: Error - {e}\")\n",
    "\n",
    "# Potencia\n",
    "resultado_potencia = potencia(base, exponente)\n",
    "print(f\"Potencia: {base} ^ {exponente} = {resultado_potencia}\")"
   ]
  },
  {
   "cell_type": "code",
   "execution_count": 42,
   "id": "e80999f0",
   "metadata": {},
   "outputs": [
    {
     "name": "stdout",
     "output_type": "stream",
     "text": [
      "\n",
      "--- Prueba de división por cero ---\n",
      "División por cero: Error capturado - No se puede dividir por cero.\n"
     ]
    }
   ],
   "source": [
    "# Demostración del manejo de errores (división por cero)\n",
    "print(\"\\n--- Prueba de división por cero ---\")\n",
    "try:\n",
    "    division(10, 0)\n",
    "except ZeroDivisionError as e:\n",
    "    print(f\"División por cero: Error capturado - {e}\")"
   ]
  },
  {
   "cell_type": "markdown",
   "id": "95613393",
   "metadata": {},
   "source": [
    "#### **Conclusiones de tarea**"
   ]
  },
  {
   "cell_type": "raw",
   "id": "23c374c3",
   "metadata": {
    "vscode": {
     "languageId": "raw"
    }
   },
   "source": [
    "nombre_paquete/\n",
    "├── __init__.py       # Define qué se expone del paquete\n",
    "└── modulo.py         # Contiene la implementación"
   ]
  },
  {
   "cell_type": "markdown",
   "id": "1d677e81",
   "metadata": {},
   "source": [
    "- **nombre_paquete/:** Es el directorio principal que contiene todo el paquete. Su nombre debe ser descriptivo, seguir convenciones Python (snake_case) y evitar comenzar con números.\n",
    "- **init.py:** Este archivo es crucial, pues convierte un directorio común en un paquete Python. Se ejecuta automáticamente cuando el paquete es importado.\n",
    "- **modulo.py:** Contiene el código real de las funcionalidades. Se pueden tener múltiples módulos dentro de un paquete para separar lógicamente las funciones."
   ]
  },
  {
   "cell_type": "markdown",
   "id": "6d9a4ce7",
   "metadata": {},
   "source": [
    "#### **Archivo `__init__.py` - Punto de entrada**"
   ]
  },
  {
   "cell_type": "code",
   "execution_count": null,
   "id": "b7a42731",
   "metadata": {},
   "outputs": [],
   "source": [
    "from modulo import funcion1, funcion2   # Importación \n",
    "__all__ = [\"funcion1\", \"funcion2\"]      # Control de exports"
   ]
  },
  {
   "cell_type": "markdown",
   "id": "dc1f0d68",
   "metadata": {},
   "source": [
    "- **Control de exports:** La variable `__all__` es una lista que controla qué símbolos se exponen cuando alguien usa from paquete `import *`. Es una buena práctica definirla para restringir qué funciones son parte de la API pública.\n",
    "- **El `__init__.py`** actúa como una \"fachada\" que oculta la estructura interna y presenta una interfaz limpia al usuario."
   ]
  },
  {
   "cell_type": "markdown",
   "id": "32a823fa",
   "metadata": {},
   "source": [
    "#### **Documentación de las funciones**"
   ]
  },
  {
   "cell_type": "code",
   "execution_count": null,
   "id": "4a683eb4",
   "metadata": {},
   "outputs": [],
   "source": [
    "def funcion(a, b):\n",
    "    \"\"\"\n",
    "    Descripción breve de la función.\n",
    "    \n",
    "    Args:\n",
    "        a (tipo): Descripción del parámetro a.\n",
    "        b (tipo): Descripción del parámetro b.\n",
    "        \n",
    "    Returns:\n",
    "        tipo: Descripción del valor retornado.\n",
    "        \n",
    "    Raises:\n",
    "        ExcepcionTipo: Cuándo ocurre esta excepción.\n",
    "    \"\"\""
   ]
  },
  {
   "cell_type": "markdown",
   "id": "1c1fad50",
   "metadata": {},
   "source": [
    "- **Docstring:** El texto entre triple comillas `(\"\"\")` es la documentación de la función y puede ser accedido mediante help(funcion) o herramientas de generación de documentación como Sphinx.\n",
    "- **Descripción breve:** Primera línea que resume el propósito de la función de manera concisa.\n",
    "- **Args:** Sección que documenta cada parámetro, su tipo esperado y su propósito.\n",
    "- **El formato nombre (tipo):** descripción es un estándar de documentación Google que facilita la lectura.\n",
    "- **Returns:** Especifica qué devuelve la función, incluyendo el tipo y una descripción clara.\n",
    "- **Raises:** Documenta las excepciones que la función podría lanzar intencionalmente y bajo qué condiciones, lo que es fundamental para el manejo de errores."
   ]
  },
  {
   "cell_type": "markdown",
   "id": "0fbf495b",
   "metadata": {},
   "source": [
    "---\n",
    "### **Comandos Mágicos en Jupyter Notebook**\n",
    "Los comandos mágicos (o \"magics\") son funciones especiales en Jupyter Notebook que permiten realizar tareas comunes de manera más sencilla. Estas instrucciones especiales comienzan con uno o dos símbolos de porcentaje (`%` o `%%)` y proporcionan funcionalidades adicionales que no están disponibles en Python estándar.\n",
    "\n",
    "Existen dos tipos principales de comandos mágicos:\n",
    "- Magics de línea (%): Afectan solo a la línea donde se escriben\n",
    "- Magics de celda (%%): Afectan a toda la celda\n",
    "#### 1. **`%%writefile`**\n",
    "**Descripción:** Este comando escribe el contenido completo de la celda en un archivo externo. Es extremadamente útil para crear archivos desde un notebook.\n",
    "\n",
    "**Parámetros comunes:**\n",
    "\n",
    "- **a:** Anexa el contenido al archivo en lugar de sobrescribirlo\n",
    "- **Ruta del archivo:** Especifica dónde crear el archivo (puede incluir subdirectorios)\n",
    "- **Uso en nuestra tarea:** Lo utilizamos para crear los archivos dentro del directorio del paquete.\n",
    "\n",
    "Referencias:\n",
    "https://ipython.readthedocs.io/en/9.2.0/interactive/magics.html\n"
   ]
  }
 ],
 "metadata": {
  "kernelspec": {
   "display_name": ".venv",
   "language": "python",
   "name": "python3"
  },
  "language_info": {
   "codemirror_mode": {
    "name": "ipython",
    "version": 3
   },
   "file_extension": ".py",
   "mimetype": "text/x-python",
   "name": "python",
   "nbconvert_exporter": "python",
   "pygments_lexer": "ipython3",
   "version": "3.12.4"
  }
 },
 "nbformat": 4,
 "nbformat_minor": 5
}
