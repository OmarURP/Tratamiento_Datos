{
 "cells": [
  {
   "cell_type": "markdown",
   "id": "def6e1e8",
   "metadata": {},
   "source": [
    "# **Tarea 03.- Generación de mapas con puntos de muestreo**\n",
    "---\n",
    "## *Subcoordinación de Posgrado y Educación Continua.*\n",
    "### [Instituto Mexicano de Tecnología del Agua](https://www.gob.mx/imta).<br>\n",
    "\n",
    "<img src=\"Imagenes/imta_logo.png\" style=\"height: 5em; vertical-align: middle;\">\n",
    "<img src=\"Imagenes/Mexico.jpg\" style=\"height: 5em; vertical-align: middle;\">\n",
    "\n",
    "**Alumno: Ing. Omar Ulises Robles Pereyra** <br>\n",
    "**Docente: Dr. Gabriel Ruiz Martinez** <br>\n",
    "\n",
    "[![Open In Colab](Imagenes/colab-badge.svg)](https://colab.research.google.com/github/OmarURP/Tratamiento_Datos/blob/master/Clase_03.ipynb)\n",
    "\n",
    "---\n",
    "\n",
    "#### **Basado en los apuntes del Dr. Gabriel Ruiz Martinez**\n",
    "\n",
    "**Instrucciones:** Generar un archivo `.html` con mapa interactvio que contenga los puntos geográficos relacionados a la cuenca del Río Coatzacoalcos."
   ]
  },
  {
   "cell_type": "code",
   "execution_count": 49,
   "id": "22437e2a",
   "metadata": {},
   "outputs": [],
   "source": [
    "# Carga de librerías necesarias\n",
    "import folium\n",
    "import pandas as pd"
   ]
  },
  {
   "cell_type": "code",
   "execution_count": 50,
   "id": "76fddef7",
   "metadata": {},
   "outputs": [
    {
     "name": "stdout",
     "output_type": "stream",
     "text": [
      "Datos cargados desde: ./Datos/03_Tarea/RESULTADOS_VERACRUZ.xlsx\n",
      "Marcador: c\n",
      "Archivo de salida: ./Datos/03_Tarea/03_Resultados.html\n"
     ]
    }
   ],
   "source": [
    "# Carga de datos\n",
    "datos = './Datos/03_Tarea/RESULTADOS_VERACRUZ.xlsx'\n",
    "marcador = 'c'\n",
    "archivo_salida = './Datos/03_Tarea/03_Resultados.html'\n",
    "print(f'Datos cargados desde: {datos}')\n",
    "print(f'Marcador: {marcador}')\n",
    "print(f'Archivo de salida: {archivo_salida}')"
   ]
  },
  {
   "cell_type": "code",
   "execution_count": 51,
   "id": "8e18b520",
   "metadata": {},
   "outputs": [
    {
     "name": "stdout",
     "output_type": "stream",
     "text": [
      "Tesela: Esri.NatGeoWorldMap\n"
     ]
    }
   ],
   "source": [
    "def menu_teselas(opcion):\n",
    "    # Diccionario de teselas disponibles\n",
    "    opciones_teselas = {\n",
    "        1: 'OpenStreetMap.Mapnik',\n",
    "        2: 'OpenStreetMap.HOT',\n",
    "        3: 'Stamen.Terrain',\n",
    "        4: 'Stamen.Toner',\n",
    "        5: 'Stamen.Watercolor',\n",
    "        6: 'CartoDB.Positron',\n",
    "        7: 'CartoDB.DarkMatter',\n",
    "        8: 'Esri.WorldStreetMap',\n",
    "        9: 'Esri.WorldImagery',\n",
    "        10: 'Esri.NatGeoWorldMap',\n",
    "        11: 'NASAGIBS.ModisTerraTrueColorCR'\n",
    "    }\n",
    "    return opciones_teselas.get(opcion)\n",
    "\n",
    "# Usar la función para seleccionar la tesela\n",
    "tesela = menu_teselas(10)\n",
    "print(f'Tesela: {tesela}')\n"
   ]
  },
  {
   "cell_type": "code",
   "execution_count": 52,
   "id": "a6853bff",
   "metadata": {},
   "outputs": [
    {
     "name": "stdout",
     "output_type": "stream",
     "text": [
      "Índice del último punto encontrado: 36\n",
      "Extensión del archivo detectada: .xlsx\n"
     ]
    }
   ],
   "source": [
    "indice_punto = datos.rfind('.')\n",
    "print(f'Índice del último punto encontrado: {indice_punto}')\n",
    "if indice_punto != -1:\n",
    "    extension = datos[indice_punto:]\n",
    "    print(f'Extensión del archivo detectada: {extension}')\n",
    "else:\n",
    "    print(f'Error en extracción de la extensión: {datos}')"
   ]
  },
  {
   "cell_type": "code",
   "execution_count": 53,
   "id": "2aff24a3",
   "metadata": {},
   "outputs": [
    {
     "name": "stdout",
     "output_type": "stream",
     "text": [
      "Número de hojas disponibles: 3\n"
     ]
    }
   ],
   "source": [
    "# Ver cuántas hojas tiene disponible el archivo\n",
    "hojas = pd.ExcelFile(datos)\n",
    "print(f'Número de hojas disponibles: {len(hojas.sheet_names)}')"
   ]
  },
  {
   "cell_type": "code",
   "execution_count": 54,
   "id": "dec1bcec",
   "metadata": {},
   "outputs": [
    {
     "name": "stdout",
     "output_type": "stream",
     "text": [
      "\n",
      "Hoja: Sitios\n",
      "Dimensiones: (417, 14)\n",
      "\n",
      "Hoja: Resultados\n",
      "Dimensiones: (10337, 251)\n",
      "\n",
      "Hoja: Simbología\n",
      "Dimensiones: (245, 3)\n"
     ]
    }
   ],
   "source": [
    "# Cargando hojas en un diccionario de dataframes\n",
    "diccionario = pd.read_excel(datos, sheet_name=None)\n",
    "# Separando por hojas el archivo\n",
    "keys = list(diccionario.keys())\n",
    "hoja1 = diccionario[keys[0]] # Hoja \"Sitios\"\n",
    "hoja2 = diccionario[keys[1]] # Hoja \"Resultados\"\n",
    "hoja3 = diccionario[keys[2]] # Hoja \"Simbología\"\n",
    "# Ver información básica de cada hoja\n",
    "for nombre, df in diccionario.items():\n",
    "    print(f\"\\nHoja: {nombre}\")\n",
    "    print(f\"Dimensiones: {df.shape}\")"
   ]
  },
  {
   "cell_type": "code",
   "execution_count": 55,
   "id": "3b87a5c4",
   "metadata": {},
   "outputs": [
    {
     "name": "stdout",
     "output_type": "stream",
     "text": [
      "0    RÍO TECOLUTLA\n",
      "1    RÍO TECOLUTLA\n",
      "2      RÍO CAZONES\n",
      "3     RÍO PÁNUCO 1\n",
      "4     RÍO PÁNUCO 1\n",
      "Name: CUENCA, dtype: object\n"
     ]
    }
   ],
   "source": [
    "# Seleccionando la columna \"CUENCA\" en la hoja \"Sitios\"\n",
    "cuencas = hoja1[\"CUENCA\"]\n",
    "print(cuencas.head())"
   ]
  },
  {
   "cell_type": "code",
   "execution_count": 56,
   "id": "e32d95ac",
   "metadata": {},
   "outputs": [
    {
     "name": "stdout",
     "output_type": "stream",
     "text": [
      "\n",
      "Valores de cuencas:\n",
      "['RÍO TECOLUTLA' 'RÍO CAZONES' 'RÍO PÁNUCO 1' 'RÍO BLANCO' 'RÍO ACTOPAN'\n",
      " 'LLANURAS DE TUXPAN' 'RÍO LA ANTIGUA' 'LLANURAS DE PAPALOAPAN'\n",
      " 'RÍO PAPALOAPAN' 'RÍO TESECHOACÁN' 'RÍO PLAYA VICENTE' 'RÍO SAN JUAN' nan\n",
      " 'ALTO RÍO COATZACOALCOS' 'RÍO NAUTLA' 'RÍO COLIPA' 'RÍO MISANTLA'\n",
      " 'LLANURAS DE ACTOPAN' 'JAMAPA-COTAXTLA' 'RÍO JAMAPA' 'RÍO COTAXTLA'\n",
      " 'RÍO JAMAPA-OCOTAXTLA' 'BAJO RÍO COATZACOALCOS' 'RÍO HUAZUNTLÁN'\n",
      " 'LLANURAS DEL COATZACOALCOS' 'LLANURAS DE COATZACOALCOS' 'ESTERO GALINDO'\n",
      " 'RÍO TUXPAN' 'RÍO TONTO' 'TANCOCHAPA BAJO' 'BAJO RÍO UXPANAPA'\n",
      " 'RÍO PÁNUCO 2' 'ARROYO TAMACUIL O LA LLAVE' 'RÍO CHICAYÁN 2' 'RÍO TAMESÍ'\n",
      " 'RÍO CUCHARAS' 'ARROYO LA PIEDRA O LA LAJA' 'ARROYO CARBAJAL'\n",
      " 'RÍO TANCOCHÍN' 'RÍO TEMPOAL 1' 'RÍO TEMPOAL 2' 'RÍO SAN PEDRO'\n",
      " 'RÍO MOCTEZUMA 3' 'RÍO CHICAYÁN 1' 'RÍO MOCTEZUMA 4' 'CAZONES '\n",
      " 'RÍO BOBOS' 'JAMAPA' 'TECOLUTLA' 'LA ANTIGUA' 'PLAYA' 'ACTOPAN '\n",
      " 'PAPALOAPAN ' 'RÍO TAMESI']\n"
     ]
    }
   ],
   "source": [
    "# Mostrar valores de cuencas\n",
    "print(\"\\nValores de cuencas:\")\n",
    "print(cuencas.unique())"
   ]
  },
  {
   "cell_type": "code",
   "execution_count": 57,
   "id": "3a7f734c",
   "metadata": {},
   "outputs": [
    {
     "name": "stdout",
     "output_type": "stream",
     "text": [
      "\n",
      "Conteo de sitios por cuenca:\n",
      "CUENCA\n",
      "RÍO LA ANTIGUA                75\n",
      "RÍO ACTOPAN                   26\n",
      "RÍO NAUTLA                    22\n",
      "LLANURAS DE PAPALOAPAN        20\n",
      "RÍO CAZONES                   18\n",
      "RÍO TECOLUTLA                 15\n",
      "LLANURAS DE COATZACOALCOS     15\n",
      "RÍO TUXPAN                    13\n",
      "RÍO BLANCO                    10\n",
      "LA ANTIGUA                    10\n",
      "RÍO PÁNUCO 2                  10\n",
      "JAMAPA-COTAXTLA               10\n",
      "RÍO SAN JUAN                   9\n",
      "BAJO RÍO COATZACOALCOS         9\n",
      "ARROYO LA PIEDRA O LA LAJA     9\n",
      "RÍO MISANTLA                   8\n",
      "TECOLUTLA                      8\n",
      "RÍO JAMAPA                     8\n",
      "RÍO HUAZUNTLÁN                 7\n",
      "RÍO PAPALOAPAN                 6\n",
      "BAJO RÍO UXPANAPA              6\n",
      "RÍO PÁNUCO 1                   5\n",
      "RÍO TANCOCHÍN                  5\n",
      "LLANURAS DE ACTOPAN            5\n",
      "RÍO TAMESÍ                     4\n",
      "RÍO CHICAYÁN 1                 4\n",
      "ESTERO GALINDO                 4\n",
      "LLANURAS DE TUXPAN             4\n",
      "RÍO PLAYA VICENTE              3\n",
      "ACTOPAN                        3\n",
      "JAMAPA                         3\n",
      "LLANURAS DEL COATZACOALCOS     3\n",
      "RÍO COTAXTLA                   3\n",
      "RÍO COLIPA                     3\n",
      "RÍO CUCHARAS                   3\n",
      "RÍO BOBOS                      3\n",
      "ALTO RÍO COATZACOALCOS         2\n",
      "ARROYO TAMACUIL O LA LLAVE     2\n",
      "CAZONES                        2\n",
      "RÍO TEMPOAL 2                  2\n",
      "RÍO CHICAYÁN 2                 2\n",
      "ARROYO CARBAJAL                2\n",
      "RÍO MOCTEZUMA 4                2\n",
      "RÍO JAMAPA-OCOTAXTLA           1\n",
      "RÍO TESECHOACÁN                1\n",
      "RÍO TONTO                      1\n",
      "TANCOCHAPA BAJO                1\n",
      "RÍO TEMPOAL 1                  1\n",
      "RÍO SAN PEDRO                  1\n",
      "RÍO MOCTEZUMA 3                1\n",
      "PLAYA                          1\n",
      "PAPALOAPAN                     1\n",
      "RÍO TAMESI                     1\n",
      "Name: count, dtype: int64\n"
     ]
    }
   ],
   "source": [
    "# Contar ocurrencias de cada cuenca\n",
    "print(\"\\nConteo de sitios por cuenca:\")\n",
    "print(cuencas.value_counts())"
   ]
  },
  {
   "cell_type": "code",
   "execution_count": 58,
   "id": "be1ef989",
   "metadata": {},
   "outputs": [
    {
     "name": "stdout",
     "output_type": "stream",
     "text": [
      "\n",
      "Número de sitios relacionados con la cuenca del Río Coatzacoalcos: 29\n",
      "\n",
      "Primeros sitios encontrados:\n",
      "                         CUENCA    LATITUD   LONGITUD\n",
      "42       ALTO RÍO COATZACOALCOS  17.424576 -94.967069\n",
      "43       ALTO RÍO COATZACOALCOS  17.415814 -94.914575\n",
      "182      BAJO RÍO COATZACOALCOS  17.860617 -94.658430\n",
      "201      BAJO RÍO COATZACOALCOS  17.885430 -94.569530\n",
      "206  LLANURAS DEL COATZACOALCOS  18.200820 -94.634340\n",
      "211   LLANURAS DE COATZACOALCOS  18.150970 -94.464880\n",
      "247   LLANURAS DE COATZACOALCOS  18.150730 -94.479930\n",
      "248   LLANURAS DE COATZACOALCOS  18.151140 -94.489910\n",
      "249   LLANURAS DE COATZACOALCOS  18.152710 -94.502770\n",
      "250  LLANURAS DEL COATZACOALCOS  18.153000 -94.445470\n",
      "251  LLANURAS DEL COATZACOALCOS  18.154310 -94.437270\n",
      "252   LLANURAS DE COATZACOALCOS  18.155840 -94.426020\n",
      "253   LLANURAS DE COATZACOALCOS  18.157890 -94.416230\n",
      "254   LLANURAS DE COATZACOALCOS  18.166510 -94.413600\n",
      "255      BAJO RÍO COATZACOALCOS  17.638942 -94.750381\n",
      "257   LLANURAS DE COATZACOALCOS  18.129080 -94.398260\n",
      "260      BAJO RÍO COATZACOALCOS  17.929500 -94.551910\n",
      "265      BAJO RÍO COATZACOALCOS  17.973270 -94.551160\n",
      "266      BAJO RÍO COATZACOALCOS  17.934400 -94.553700\n",
      "267      BAJO RÍO COATZACOALCOS  17.890129 -94.566781\n",
      "268      BAJO RÍO COATZACOALCOS  17.928300 -94.557300\n",
      "278   LLANURAS DE COATZACOALCOS  18.206360 -94.607600\n",
      "291      BAJO RÍO COATZACOALCOS  17.881111 -94.732222\n",
      "354   LLANURAS DE COATZACOALCOS  18.163500 -94.669780\n",
      "355   LLANURAS DE COATZACOALCOS  18.164593 -94.658523\n",
      "356   LLANURAS DE COATZACOALCOS  18.179013 -94.671885\n",
      "358   LLANURAS DE COATZACOALCOS  18.167255 -94.337567\n",
      "359   LLANURAS DE COATZACOALCOS  18.158996 -94.347709\n",
      "360   LLANURAS DE COATZACOALCOS  18.129700 -94.338964\n"
     ]
    }
   ],
   "source": [
    "# Filtrar datos para encontrar cualquier coincidencia con \"COATZACOALCOS\"\n",
    "sitios_coatzacoalcos = hoja1[hoja1[\"CUENCA\"].str.contains(\"COATZACOALCOS\", case=False, na=False)]\n",
    "\n",
    "# Ver cantidad de sitios encontrados\n",
    "print(f\"\\nNúmero de sitios relacionados con la cuenca del Río Coatzacoalcos: {len(sitios_coatzacoalcos)}\")\n",
    "\n",
    "# Verificar los primeros registros encontrados\n",
    "print(\"\\nPrimeros sitios encontrados:\")\n",
    "print(sitios_coatzacoalcos[[\"CUENCA\", \"LATITUD\", \"LONGITUD\"]])"
   ]
  },
  {
   "cell_type": "code",
   "execution_count": 59,
   "id": "be31c4ce",
   "metadata": {},
   "outputs": [],
   "source": [
    "# Creacion del mapa usando folium \n",
    "mex_coord = (21, -99.707005)\n",
    "# Límites geográficos de México\n",
    "lim_lon =  (-117.5, -85)\n",
    "lim_lat =  (-35.5, -15) \n",
    "# Creando el objeto mapa\n",
    "mapa = folium.Map(mex_coord,\n",
    "                 zoom_start=4,\n",
    "                 tiles=tesela,\n",
    "                 control_scale=True)"
   ]
  },
  {
   "cell_type": "code",
   "execution_count": 60,
   "id": "3bb61159",
   "metadata": {},
   "outputs": [],
   "source": [
    "# Agregando marcadores para cada sitio\n",
    "for _, sitio in sitios_coatzacoalcos.iterrows():\n",
    "    folium.CircleMarker(\n",
    "        location=(sitio[\"LATITUD\"], sitio[\"LONGITUD\"]),\n",
    "        radius=5,\n",
    "        fill_color=\"blue\",\n",
    "        fill_opacity=0.6,\n",
    "        color=\"black\",\n",
    "        weight=1,\n",
    "        popup=folium.Popup(f\"\"\"Clave sitio: {sitio[\"CLAVE SITIO\"]},\n",
    "                            Nombre del sitio: {sitio[\"NOMBRE DEL SITIO\"]},\n",
    "                            Cuenca: {sitio[\"CUENCA\"]},\n",
    "                            Clave Acuífero: {sitio[\"CLAVE ACUÍFERO\"]},\n",
    "                            Acuífero: {sitio[\"ACUÍFERO\"]},\n",
    "                            Organismo cuenca: {sitio[\"ORGANISMO CUENCA\"]},\n",
    "                            Direccion local: {sitio[\"DIRECCIÓN LOCAL\"]},\n",
    "                            Estado: {sitio[\"ESTADO\"]},\n",
    "                            Municipio: {sitio[\"MUNICIPIO\"]},\n",
    "                            Cuerpo de agua: {sitio[\"CUERPO DE AGUA\"]},\n",
    "                            Tipo de cuerpo de agua: {sitio[\"TIPO DE CUERPO DE AGUA\"]},\n",
    "                            Subtipo de cuerpo de agua: {sitio[\"SUBTIPO CUERPO AGUA\"]},\n",
    "                            Latitud: {sitio[\"LATITUD\"]},\n",
    "                            Longitud: {sitio[\"LONGITUD\"]}\"\"\")\n",
    "                            ).add_to(mapa)\n",
    "# Guardando el mapa en archivo HTML\n",
    "#mapa.save(archivo_salida)\n",
    "\n",
    "# Hasta aquí se cumple con Tarea 03"
   ]
  },
  {
   "cell_type": "code",
   "execution_count": 61,
   "id": "fa26e6b5",
   "metadata": {},
   "outputs": [
    {
     "name": "stdout",
     "output_type": "stream",
     "text": [
      "Sistema de coordenadas original: EPSG:4326"
     ]
    },
    {
     "name": "stdout",
     "output_type": "stream",
     "text": [
      "\n"
     ]
    }
   ],
   "source": [
    "# Bibliotecas necesarias para cargar y visualizar datos geoespaciales\n",
    "import geopandas as gpd\n",
    "from folium import GeoJson\n",
    "\n",
    "# Creación de mapa base\n",
    "mapa = folium.Map(mex_coord,\n",
    "                 zoom_start=4,\n",
    "                 tiles=tesela,\n",
    "                 control_scale=True)\n",
    "\n",
    "# Shapefile como capa base\n",
    "ruta_shapefile = \"Datos/03_Tarea/Shapefile/Cuenca.shp\"\n",
    "\n",
    "# Cargar el shapefile como GeoDataFrame\n",
    "gdf = gpd.read_file(ruta_shapefile)\n",
    "\n",
    "# Verificar el sistema de coordenadas\n",
    "print(f\"Sistema de coordenadas original: {gdf.crs}\")\n",
    "\n",
    "# Si es necesario, transformar a WGS84 (sistema que usa Folium)\n",
    "if gdf.crs != \"EPSG:4326\":\n",
    "    gdf = gdf.to_crs(epsg=4326)\n",
    "    print(\"Coordenadas transformadas a WGS84\")\n",
    "\n",
    "# Añadir el shapefile al mapa\n",
    "GeoJson(\n",
    "    data=gdf,\n",
    "    style_function=lambda x: {\n",
    "        'fillColor': '#3388ff',\n",
    "        'color': '#004c99',\n",
    "        'weight': 2,\n",
    "        'fillOpacity': 0.2\n",
    "    },\n",
    "    tooltip=folium.GeoJsonTooltip(fields=['CVE_CUE'], labels=True),\n",
    "    name=\"Cuenca Coatzacoalcos\"\n",
    ").add_to(mapa)\n",
    "\n",
    "# Chuleando la tipografía del mapa (Respuesta generada usando L.L.M. Gemini 2.5)\n",
    "for _, sitio in sitios_coatzacoalcos.iterrows():\n",
    "    # Crear HTML para el popup con formato mejorado y campos completos\n",
    "    html = f\"\"\"\n",
    "    <div style=\"font-family: Arial; max-width: 300px; padding: 10px;\">\n",
    "        <h4 style=\"color: #2c3e50; margin-bottom: 10px; border-bottom: 2px solid #3498db;\">{sitio[\"NOMBRE DEL SITIO\"]}</h4>\n",
    "        <table style=\"width: 100%; border-collapse: collapse;\">\n",
    "            <tr style=\"background-color: #f2f2f2;\">\n",
    "                <td style=\"padding: 4px; font-weight: bold;\">Clave sitio:</td>\n",
    "                <td>{sitio[\"CLAVE SITIO\"]}</td>\n",
    "            </tr>\n",
    "            <tr>\n",
    "                <td style=\"padding: 4px; font-weight: bold;\">Cuenca:</td>\n",
    "                <td>{sitio[\"CUENCA\"]}</td>\n",
    "            </tr>\n",
    "            <tr style=\"background-color: #f2f2f2;\">\n",
    "                <td style=\"padding: 4px; font-weight: bold;\">Clave Acuífero:</td>\n",
    "                <td>{sitio[\"CLAVE ACUÍFERO\"]}</td>\n",
    "            </tr>\n",
    "            <tr>\n",
    "                <td style=\"padding: 4px; font-weight: bold;\">Acuífero:</td>\n",
    "                <td>{sitio[\"ACUÍFERO\"]}</td>\n",
    "            </tr>\n",
    "            <tr style=\"background-color: #f2f2f2;\">\n",
    "                <td style=\"padding: 4px; font-weight: bold;\">Organismo Cuenca:</td>\n",
    "                <td>{sitio[\"ORGANISMO CUENCA\"]}</td>\n",
    "            </tr>\n",
    "            <tr>\n",
    "                <td style=\"padding: 4px; font-weight: bold;\">Dirección Local:</td>\n",
    "                <td>{sitio[\"DIRECCIÓN LOCAL\"]}</td>\n",
    "            </tr>\n",
    "            <tr style=\"background-color: #f2f2f2;\">\n",
    "                <td style=\"padding: 4px; font-weight: bold;\">Estado:</td>\n",
    "                <td>{sitio[\"ESTADO\"]}</td>\n",
    "            </tr>\n",
    "            <tr>\n",
    "                <td style=\"padding: 4px; font-weight: bold;\">Municipio:</td>\n",
    "                <td>{sitio[\"MUNICIPIO\"]}</td>\n",
    "            </tr>\n",
    "            <tr style=\"background-color: #f2f2f2;\">\n",
    "                <td style=\"padding: 4px; font-weight: bold;\">Cuerpo de agua:</td>\n",
    "                <td>{sitio[\"CUERPO DE AGUA\"]}</td>\n",
    "            </tr>\n",
    "            <tr>\n",
    "                <td style=\"padding: 4px; font-weight: bold;\">Tipo de cuerpo de agua:</td>\n",
    "                <td>{sitio[\"TIPO DE CUERPO DE AGUA\"]}</td>\n",
    "            </tr>\n",
    "            <tr style=\"background-color: #f2f2f2;\">\n",
    "                <td style=\"padding: 4px; font-weight: bold;\">Subtipo cuerpo agua:</td>\n",
    "                <td>{sitio[\"SUBTIPO CUERPO AGUA\"]}</td>\n",
    "            </tr>\n",
    "            <tr>\n",
    "                <td style=\"padding: 4px; font-weight: bold;\">Coordenadas:</td>\n",
    "                <td>{sitio[\"LATITUD\"]}, {sitio[\"LONGITUD\"]}</td>\n",
    "            </tr>\n",
    "        </table>\n",
    "    </div>\n",
    "    \"\"\"\n",
    "    \n",
    "    # Crear el marcador encima del shapefile\n",
    "    folium.CircleMarker(\n",
    "        location=(sitio[\"LATITUD\"], sitio[\"LONGITUD\"]),\n",
    "        radius=5,\n",
    "        fill_color=\"blue\",\n",
    "        fill_opacity=0.6,\n",
    "        color=\"black\",\n",
    "        weight=1,\n",
    "        popup=folium.Popup(html, max_width=350)\n",
    "    ).add_to(mapa)\n",
    "\n",
    "# Control de capas e impresión de resultados\n",
    "folium.LayerControl().add_to(mapa)\n",
    "mapa.save(archivo_salida)"
   ]
  },
  {
   "cell_type": "markdown",
   "id": "a9a3c274",
   "metadata": {},
   "source": [
    "---\n",
    "#### **Función `rfind()` en Phython**\n",
    "`.rfind` es un método de cadenas de texto (strings) en Phyton que busca la última ocurrencia de una subcadena dentro de otra cadena:\n",
    "- **r** en \"rfind\" significa *right (derecha)* - busca desde el final hasta el principio.\n",
    "- Entrega el índice de la última aparición de la subcadena\n",
    "- Devuelve `-1` si la subcadena no se encuentra\n",
    "\n",
    "En este ejemplo fue útil para extraer extensiones de archivos porque busca el último punto, no importa cuantos puntos haya en el nombre del archivo.<br>\n",
    "\n",
    "***Manual de [`rfind()`](https://docs.python.org/3/library/stdtypes.html#str.rfind)*** <br>\n",
    "\n",
    "Ayuda interactiva en Phyton/Jupiter"
   ]
  },
  {
   "cell_type": "code",
   "execution_count": 62,
   "id": "631b21ed",
   "metadata": {},
   "outputs": [
    {
     "name": "stdout",
     "output_type": "stream",
     "text": [
      "Help on method_descriptor:\n",
      "\n",
      "rfind(...) unbound builtins.str method\n",
      "    S.rfind(sub[, start[, end]]) -> int\n",
      "\n",
      "    Return the highest index in S where substring sub is found,\n",
      "    such that sub is contained within S[start:end].  Optional\n",
      "    arguments start and end are interpreted as in slice notation.\n",
      "\n",
      "    Return -1 on failure.\n",
      "\n"
     ]
    }
   ],
   "source": [
    "help(str.rfind)"
   ]
  },
  {
   "cell_type": "markdown",
   "id": "f72ff0c2",
   "metadata": {},
   "source": [
    "#### **Función `str.contains()` en Pandas**\n",
    "`str.contains()` es un método de texto en pandas que permite buscar un patrón o subcadena dentro de una columna de strings.\n",
    "En el código:\n",
    "- `hoja1[\"CUENCA]` selecciona la columna cuenca.\n",
    "- `.str` accede a los métodos para manipulación de texto.\n",
    "- `.contains(\"COATZACOALCOS\")` busca esa subcadena en cada valor.\n",
    "- Devuelve una serie de valores booleanos (True/False)\n",
    "\n",
    "Parámetros principales: <br>\n",
    "- `pat:` Es el patrón a buscar (string o expresión regular)\n",
    "- `case=False` Ignora la distinción entre mayúsculas y minúsculas\n",
    "- `na=False` Cómo manejar valores NaN/None (False= tratarlos como **no** coincidentes)\n",
    "- `regex=True` Por defecto interpreta el patrón como expresión regular\n",
    "\n",
    "***Manual de [`str.contains()`](https://pandas.pydata.org/docs/reference/api/pandas.Series.str.contains.html)*** <br>\n",
    "Ayuda interactiva en Python/Jupyter"
   ]
  },
  {
   "cell_type": "code",
   "execution_count": 63,
   "id": "f5ba4b5b",
   "metadata": {},
   "outputs": [
    {
     "name": "stdout",
     "output_type": "stream",
     "text": [
      "Help on function contains in module pandas.core.strings.accessor:\n",
      "\n",
      "contains(self, pat, case: 'bool' = True, flags: 'int' = 0, na=<no_default>, regex: 'bool' = True)\n",
      "    Test if pattern or regex is contained within a string of a Series or Index.\n",
      "\n",
      "    Return boolean Series or Index based on whether a given pattern or regex is\n",
      "    contained within a string of a Series or Index.\n",
      "\n",
      "    Parameters\n",
      "    ----------\n",
      "    pat : str\n",
      "        Character sequence or regular expression.\n",
      "    case : bool, default True\n",
      "        If True, case sensitive.\n",
      "    flags : int, default 0 (no flags)\n",
      "        Flags to pass through to the re module, e.g. re.IGNORECASE.\n",
      "    na : scalar, optional\n",
      "        Fill value for missing values. The default depends on dtype of the\n",
      "        array. For object-dtype, ``numpy.nan`` is used. For the nullable\n",
      "        ``StringDtype``, ``pandas.NA`` is used. For the ``\"str\"`` dtype,\n",
      "        ``False`` is used.\n",
      "    regex : bool, default True\n",
      "        If True, assumes the pat is a regular expression.\n",
      "\n",
      "        If False, treats the pat as a literal string.\n",
      "\n",
      "    Returns\n",
      "    -------\n",
      "    Series or Index of boolean values\n",
      "        A Series or Index of boolean values indicating whether the\n",
      "        given pattern is contained within the string of each element\n",
      "        of the Series or Index.\n",
      "\n",
      "    See Also\n",
      "    --------\n",
      "    match : Analogous, but stricter, relying on re.match instead of re.search.\n",
      "    Series.str.startswith : Test if the start of each string element matches a\n",
      "        pattern.\n",
      "    Series.str.endswith : Same as startswith, but tests the end of string.\n",
      "\n",
      "    Examples\n",
      "    --------\n",
      "    Returning a Series of booleans using only a literal pattern.\n",
      "\n",
      "    >>> s1 = pd.Series(['Mouse', 'dog', 'house and parrot', '23', np.nan])\n",
      "    >>> s1.str.contains('og', regex=False)\n",
      "    0    False\n",
      "    1     True\n",
      "    2    False\n",
      "    3    False\n",
      "    4      NaN\n",
      "    dtype: object\n",
      "\n",
      "    Returning an Index of booleans using only a literal pattern.\n",
      "\n",
      "    >>> ind = pd.Index(['Mouse', 'dog', 'house and parrot', '23.0', np.nan])\n",
      "    >>> ind.str.contains('23', regex=False)\n",
      "    Index([False, False, False, True, nan], dtype='object')\n",
      "\n",
      "    Specifying case sensitivity using `case`.\n",
      "\n",
      "    >>> s1.str.contains('oG', case=True, regex=True)\n",
      "    0    False\n",
      "    1    False\n",
      "    2    False\n",
      "    3    False\n",
      "    4      NaN\n",
      "    dtype: object\n",
      "\n",
      "    Specifying `na` to be `False` instead of `NaN` replaces NaN values\n",
      "    with `False`. If Series or Index does not contain NaN values\n",
      "    the resultant dtype will be `bool`, otherwise, an `object` dtype.\n",
      "\n",
      "    >>> s1.str.contains('og', na=False, regex=True)\n",
      "    0    False\n",
      "    1     True\n",
      "    2    False\n",
      "    3    False\n",
      "    4    False\n",
      "    dtype: bool\n",
      "\n",
      "    Returning 'house' or 'dog' when either expression occurs in a string.\n",
      "\n",
      "    >>> s1.str.contains('house|dog', regex=True)\n",
      "    0    False\n",
      "    1     True\n",
      "    2     True\n",
      "    3    False\n",
      "    4      NaN\n",
      "    dtype: object\n",
      "\n",
      "    Ignoring case sensitivity using `flags` with regex.\n",
      "\n",
      "    >>> import re\n",
      "    >>> s1.str.contains('PARROT', flags=re.IGNORECASE, regex=True)\n",
      "    0    False\n",
      "    1    False\n",
      "    2     True\n",
      "    3    False\n",
      "    4      NaN\n",
      "    dtype: object\n",
      "\n",
      "    Returning any digit using regular expression.\n",
      "\n",
      "    >>> s1.str.contains('\\\\d', regex=True)\n",
      "    0    False\n",
      "    1    False\n",
      "    2    False\n",
      "    3     True\n",
      "    4      NaN\n",
      "    dtype: object\n",
      "\n",
      "    Ensure `pat` is a not a literal pattern when `regex` is set to True.\n",
      "    Note in the following example one might expect only `s2[1]` and `s2[3]` to\n",
      "    return `True`. However, '.0' as a regex matches any character\n",
      "    followed by a 0.\n",
      "\n",
      "    >>> s2 = pd.Series(['40', '40.0', '41', '41.0', '35'])\n",
      "    >>> s2.str.contains('.0', regex=True)\n",
      "    0     True\n",
      "    1     True\n",
      "    2    False\n",
      "    3     True\n",
      "    4    False\n",
      "    dtype: bool\n",
      "\n"
     ]
    }
   ],
   "source": [
    "help(pd.Series.str.contains)"
   ]
  }
 ],
 "metadata": {
  "kernelspec": {
   "display_name": ".venv",
   "language": "python",
   "name": "python3"
  },
  "language_info": {
   "codemirror_mode": {
    "name": "ipython",
    "version": 3
   },
   "file_extension": ".py",
   "mimetype": "text/x-python",
   "name": "python",
   "nbconvert_exporter": "python",
   "pygments_lexer": "ipython3",
   "version": "3.12.4"
  }
 },
 "nbformat": 4,
 "nbformat_minor": 5
}
