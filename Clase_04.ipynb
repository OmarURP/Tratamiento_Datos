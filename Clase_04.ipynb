{
 "cells": [
  {
   "cell_type": "markdown",
   "id": "def6e1e8",
   "metadata": {},
   "source": [
    "# **Tarea 04.- Filtrado de sitios en la base de datos nacional RENAMECA**\n",
    "---\n",
    "## *Subcoordinación de Posgrado y Educación Continua.*\n",
    "### [Instituto Mexicano de Tecnología del Agua](https://www.gob.mx/imta).<br>\n",
    "\n",
    "<img src=\"Imagenes/imta_logo.png\" style=\"height: 5em; vertical-align: middle;\">\n",
    "<img src=\"Imagenes/Mexico.jpg\" style=\"height: 5em; vertical-align: middle;\">\n",
    "\n",
    "**Alumno: Ing. Omar Ulises Robles Pereyra** <br>\n",
    "**Docente: Dr. Gabriel Ruiz Martinez** <br>\n",
    "\n",
    "[![Open In Colab](Imagenes/colab-badge.svg)](https://colab.research.google.com/github/OmarURP/Tratamiento_Datos/blob/master/Clase_04.ipynb)\n",
    "\n",
    "---\n",
    "\n",
    "#### **Basado en los apuntes del Dr. Gabriel Ruiz Martinez**\n",
    "\n",
    "**Instrucciones:**\n",
    "1. Generar un archivo html que muestre en un mapa la ubicación espacial de cada uno de los sitios de muestreo y mediante el uso de \"popups\" se deberán visualizar los principales atributos geográficos.\n",
    "2. Cargar la base de datos usando el módulo Polars.\n",
    "3. Mostrar el tiempo que el programa inirtió en cargar los datos del RENAMECA, usando Polars.\n",
    "4. Almacenar en un archivo tipo feather todos los parámetros que corresponden a los sitios de muestreo que se filtraron.\n",
    "5. Presenta el tiempo que tarda el programa de cómputo en cargar la base da datos usando Pandas y Polars"
   ]
  },
  {
   "cell_type": "code",
   "execution_count": 1,
   "id": "22437e2a",
   "metadata": {},
   "outputs": [],
   "source": [
    "# Carga de librerías necesarias\n",
    "import folium\n",
    "import polars as pl\n",
    "import pandas as pd\n",
    "import time\n",
    "import os"
   ]
  },
  {
   "cell_type": "code",
   "execution_count": 2,
   "id": "76fddef7",
   "metadata": {},
   "outputs": [
    {
     "name": "stdout",
     "output_type": "stream",
     "text": [
      "Datos cargados desde: ./Datos/03_Tarea/RESULTADOS_VERACRUZ.xlsx\n",
      "Sitios cargados desde: ./Datos/04_Tarea/CoatzaEstaciones.xlsx\n",
      "Marcador: c\n",
      "Archivo de salida: ./Resultados/04_Tarea/04_Mapa.html\n"
     ]
    }
   ],
   "source": [
    "# Carga de datos\n",
    "datos = './Datos/03_Tarea/RESULTADOS_VERACRUZ.xlsx'\n",
    "sitios = './Datos/04_Tarea/CoatzaEstaciones.xlsx'\n",
    "marcador = 'c'\n",
    "archivo_salida = './Resultados/04_Tarea/04_Mapa.html'\n",
    "print(f'Datos cargados desde: {datos}')\n",
    "print(f'Sitios cargados desde: {sitios}')\n",
    "print(f'Marcador: {marcador}')\n",
    "print(f'Archivo de salida: {archivo_salida}')"
   ]
  },
  {
   "cell_type": "code",
   "execution_count": 3,
   "id": "8e18b520",
   "metadata": {},
   "outputs": [
    {
     "name": "stdout",
     "output_type": "stream",
     "text": [
      "Tesela a usar: Esri.NatGeoWorldMap\n"
     ]
    }
   ],
   "source": [
    "def menu_teselas(opcion):\n",
    "    # Diccionario de teselas disponibles\n",
    "    opciones_teselas = {\n",
    "        1: 'OpenStreetMap.Mapnik',\n",
    "        2: 'OpenStreetMap.HOT',\n",
    "        3: 'Stamen.Terrain',\n",
    "        4: 'Stamen.Toner',\n",
    "        5: 'Stamen.Watercolor',\n",
    "        6: 'CartoDB.Positron',\n",
    "        7: 'CartoDB.DarkMatter',\n",
    "        8: 'Esri.WorldStreetMap',\n",
    "        9: 'Esri.WorldImagery',\n",
    "        10: 'Esri.NatGeoWorldMap',\n",
    "        11: 'NASAGIBS.ModisTerraTrueColorCR'\n",
    "    }\n",
    "    return opciones_teselas.get(opcion)\n",
    "\n",
    "# Usar la función para seleccionar la tesela\n",
    "tesela = menu_teselas(10)\n",
    "print(f'Tesela a usar: {tesela}')\n"
   ]
  },
  {
   "cell_type": "markdown",
   "id": "3a348072",
   "metadata": {},
   "source": [
    "---\n",
    "### **Uso de Pandas para carga de datos** ###"
   ]
  },
  {
   "cell_type": "code",
   "execution_count": 4,
   "id": "e77fa2bb",
   "metadata": {},
   "outputs": [
    {
     "name": "stdout",
     "output_type": "stream",
     "text": [
      "Inicio de cronómetro Pandas: 1757325869.9301\n",
      "\n",
      "Hoja: Sitios\n",
      "Dimensiones: (417, 14)\n",
      "\n",
      "Hoja: Resultados\n",
      "Dimensiones: (10337, 251)\n",
      "\n",
      "Hoja: Simbología\n",
      "Dimensiones: (245, 3)\n",
      "\n",
      "Fin de cronómetro Pandas: 1757325885.9402254\n",
      "\n",
      "Tiempo de ejecución con Pandas: 16.01 segundos\n"
     ]
    }
   ],
   "source": [
    "# Inicio de cronómetro\n",
    "tiempo_pandas = time.time()\n",
    "print(f'Inicio de cronómetro Pandas: {tiempo_pandas:.4f}')\n",
    "# Cargando hojas en un diccionario de dataframes\n",
    "diccionario = pd.read_excel(datos, sheet_name=None)\n",
    "# Separando por hojas el archivo\n",
    "keys = list(diccionario.keys())\n",
    "hoja1 = diccionario[keys[0]] # Hoja \"Sitios\"\n",
    "hoja2 = diccionario[keys[1]] # Hoja \"Resultados\"\n",
    "hoja3 = diccionario[keys[2]] # Hoja \"Simbología\"\n",
    "# Ver información básica de cada hoja\n",
    "for nombre, df in diccionario.items():\n",
    "    print(f\"\\nHoja: {nombre}\")\n",
    "    print(f\"Dimensiones: {df.shape}\")\n",
    "# Fin de cronómetro\n",
    "final_pandas = time.time()\n",
    "print(\"\\nFin de cronómetro Pandas:\", final_pandas)\n",
    "tiempo_ejecucion_pandas = final_pandas - tiempo_pandas\n",
    "print(f'\\nTiempo de ejecución con Pandas: {tiempo_ejecucion_pandas:.2f} segundos')"
   ]
  },
  {
   "cell_type": "markdown",
   "id": "1e766faf",
   "metadata": {},
   "source": [
    "---\n",
    "### **Uso de Polars para carga de datos** ###"
   ]
  },
  {
   "cell_type": "code",
   "execution_count": 5,
   "id": "a4e0077b",
   "metadata": {},
   "outputs": [
    {
     "name": "stdout",
     "output_type": "stream",
     "text": [
      "Inicio de cronómetro Polars: 1757325885.9501\n"
     ]
    }
   ],
   "source": [
    "# Inicio de cronómetro\n",
    "tiempo_polars = time.time()\n",
    "print(f'Inicio de cronómetro Polars: {tiempo_polars:.4f}')"
   ]
  },
  {
   "cell_type": "markdown",
   "id": "72d2746e",
   "metadata": {},
   "source": [
    "#### **Cargando la base de datos del RENAMECA (Resultados_Veracruz)**"
   ]
  },
  {
   "cell_type": "code",
   "execution_count": 6,
   "id": "49d565f1",
   "metadata": {},
   "outputs": [
    {
     "name": "stdout",
     "output_type": "stream",
     "text": [
      "Número de hojas disponibles: 3\n",
      "Nombres de hojas en el archivo: ['Sitios', 'Resultados', 'Simbología']\n"
     ]
    }
   ],
   "source": [
    "# Ver cuántas hojas tiene disponible el archivo RESLTADOS_VERACRUZ.xlsx\n",
    "BaseDatos_numero_hojas = pd.ExcelFile(datos)\n",
    "print(f'Número de hojas disponibles: {len(BaseDatos_numero_hojas.sheet_names)}')\n",
    "# Ver cuales son los nombres de las hojas\n",
    "BaseDatos_hojas = BaseDatos_numero_hojas.sheet_names\n",
    "print(f'Nombres de hojas en el archivo: {BaseDatos_hojas}')"
   ]
  },
  {
   "cell_type": "code",
   "execution_count": 7,
   "id": "bba0be28",
   "metadata": {},
   "outputs": [
    {
     "name": "stdout",
     "output_type": "stream",
     "text": [
      "Hoja cargada en Polars: Sitios con 417 filas y 14 columnas\n",
      "Hoja cargada en Polars: Resultados con 10337 filas y 251 columnas\n",
      "Hoja cargada en Polars: Simbología con 245 filas y 3 columnas\n"
     ]
    }
   ],
   "source": [
    "# Diccionarios de Base de datos para Polars\n",
    "BaseDatos_diccionario_pl = {}\n",
    "for hoja in BaseDatos_hojas:\n",
    "    BaseDatos_diccionario_pl[hoja] = pl.read_excel(datos, sheet_name=hoja, infer_schema_length=0)\n",
    "    print(f'Hoja cargada en Polars: {hoja} con {BaseDatos_diccionario_pl[hoja].height} filas y {BaseDatos_diccionario_pl[hoja].width} columnas')\n",
    "#print(BaseDatos_diccionario_pl)"
   ]
  },
  {
   "cell_type": "markdown",
   "id": "0fc32c6c",
   "metadata": {},
   "source": [
    "#### **Cargando los sitios de interés por graficar**"
   ]
  },
  {
   "cell_type": "code",
   "execution_count": 8,
   "id": "7bb26ab0",
   "metadata": {},
   "outputs": [
    {
     "name": "stdout",
     "output_type": "stream",
     "text": [
      "Número de hojas disponibles: 1\n",
      "Nombres de hojas en el archivo: ['Sheet 1']\n"
     ]
    }
   ],
   "source": [
    "# Ver cuántas hojas tiene disponible el archivo RESLTADOS_VERACRUZ.xlsx\n",
    "Sitios_numero_hojas = pd.ExcelFile(sitios)\n",
    "print(f'Número de hojas disponibles: {len(Sitios_numero_hojas.sheet_names)}')\n",
    "# Ver cuales son los nombres de las hojas\n",
    "Sitios_hojas = Sitios_numero_hojas.sheet_names\n",
    "print(f'Nombres de hojas en el archivo: {Sitios_hojas}')"
   ]
  },
  {
   "cell_type": "code",
   "execution_count": 9,
   "id": "88484374",
   "metadata": {},
   "outputs": [
    {
     "name": "stdout",
     "output_type": "stream",
     "text": [
      "Hoja cargada en Polars: Sheet 1 con 691 filas y 6 columnas\n"
     ]
    }
   ],
   "source": [
    "# Diccionarios de Base de datos Polars\n",
    "Sitios_diccionario_pl = {}\n",
    "for hoja in Sitios_hojas:\n",
    "    Sitios_diccionario_pl[hoja] = pl.read_excel(sitios, sheet_name=hoja)\n",
    "    print(f'Hoja cargada en Polars: {hoja} con {Sitios_diccionario_pl[hoja].height} filas y {Sitios_diccionario_pl[hoja].width} columnas')\n",
    "#print(Sitios_diccionario_pl)"
   ]
  },
  {
   "cell_type": "code",
   "execution_count": 10,
   "id": "ff70d931",
   "metadata": {},
   "outputs": [
    {
     "name": "stdout",
     "output_type": "stream",
     "text": [
      "Fin de cronómetro Polars: 1757325888.1457632\n",
      "Tiempo de ejecución con Polars: 2.20 segundos\n"
     ]
    }
   ],
   "source": [
    "# Fin de cronómetro\n",
    "final_polars = time.time()\n",
    "print(\"Fin de cronómetro Polars:\", final_polars)\n",
    "tiempo_ejecucion_polars = final_polars - tiempo_polars\n",
    "print(f'Tiempo de ejecución con Polars: {tiempo_ejecucion_polars:.2f} segundos')"
   ]
  },
  {
   "cell_type": "code",
   "execution_count": 11,
   "id": "a7e37e99",
   "metadata": {},
   "outputs": [
    {
     "name": "stdout",
     "output_type": "stream",
     "text": [
      "CLAVE_SITIO    18\n",
      "dtype: int64\n",
      "\n",
      "Conteo de sitios por clave:\n",
      "    CLAVE SITIO  NO MONITOREOS\n",
      "0     OCGCE3210             42\n",
      "1     OCGCE3367             42\n",
      "2     OCGCE3454             42\n",
      "3     OCGCE3375             42\n",
      "4     OCGCE3434             42\n",
      "5     OCGCE3445             42\n",
      "6     OCGCE3453             42\n",
      "7     OCGCE3456             42\n",
      "8     OCGCE3211             41\n",
      "9     OCGCE3455             41\n",
      "10    OCGCE3459             41\n",
      "11    OCGCE3461             41\n",
      "12    OCGCE3462             41\n",
      "13    OCGCE3452             39\n",
      "14    OCGCE3451             39\n",
      "15    OCGCE3349             38\n",
      "16  OCGCE3450W1             33\n",
      "17    OCGCE6474              1\n"
     ]
    }
   ],
   "source": [
    "# Seleccionando la columna \"CLAVE SITIO\" en la hoja \"Sheet 1\"\n",
    "Clave_Sitio = Sitios_diccionario_pl[\"Sheet 1\"].select(\"CLAVE_SITIO\")\n",
    "# Convertir a pandas para análisis sencillo\n",
    "Clave_Sitio = Clave_Sitio.to_pandas()\n",
    "#print(Clave_Sitio)\n",
    "# Contar ocurrencias de cada sitio\n",
    "print(Clave_Sitio.nunique())\n",
    "print(\"\\nConteo de sitios por clave:\")\n",
    "conteo_sitios = Clave_Sitio.value_counts().reset_index()\n",
    "conteo_sitios.columns = ['CLAVE SITIO', 'NO MONITOREOS']\n",
    "print(conteo_sitios)\n",
    "# Creando lista para filtro\n",
    "# Filtrando por Clave de Monitoreo\n",
    "Filtro = Clave_Sitio[\"CLAVE_SITIO\"].unique().tolist()\n",
    "#print(Filtro)"
   ]
  },
  {
   "cell_type": "code",
   "execution_count": 12,
   "id": "ad35bd49",
   "metadata": {},
   "outputs": [
    {
     "name": "stdout",
     "output_type": "stream",
     "text": [
      "Index(['CLAVE SITIO', 'NOMBRE DEL SITIO', 'CUENCA', 'CLAVE ACUÍFERO',\n",
      "       'ACUÍFERO', 'ORGANISMO CUENCA', 'DIRECCIÓN LOCAL', 'ESTADO',\n",
      "       'MUNICIPIO', 'CUERPO DE AGUA', 'TIPO DE CUERPO DE AGUA',\n",
      "       'SUBTIPO CUERPO AGUA', 'LATITUD', 'LONGITUD'],\n",
      "      dtype='object')\n",
      "Tamaño del dataframe filtrado: (18, 15)\n",
      "    CLAVE SITIO    LATITUD    LONGITUD  NO MONITOREOS\n",
      "0     OCGCE3210  17.424576  -94.967069             42\n",
      "1     OCGCE3211  17.415814  -94.914575             41\n",
      "2     OCGCE3349  17.860617   -94.65843             38\n",
      "3     OCGCE3367   17.96861   -94.48034             42\n",
      "4     OCGCE3375   17.88543   -94.56953             42\n",
      "5     OCGCE3434   18.10664   -94.45354             42\n",
      "6     OCGCE3445  17.638942  -94.750381             42\n",
      "7   OCGCE3450W1   18.11742   -94.41657             33\n",
      "8     OCGCE3451    17.9295   -94.55191             39\n",
      "9     OCGCE3452   18.00932   -94.44534             39\n",
      "10    OCGCE3453   18.01432    -94.4481             42\n",
      "11    OCGCE3454    18.0141   -94.49221             42\n",
      "12    OCGCE3455    17.9603     -94.477             41\n",
      "13    OCGCE3456   17.97327   -94.55116             42\n",
      "14    OCGCE3459    17.9344    -94.5537             41\n",
      "15    OCGCE3461  17.890129  -94.566781             41\n",
      "16    OCGCE3462    17.9283    -94.5573             41\n",
      "17    OCGCE6474  17.881111  -94.732222              1\n"
     ]
    }
   ],
   "source": [
    "# Seleccionando la hoja \"Sitios\" y convirtiendo a pandas\n",
    "Sitios_df = BaseDatos_diccionario_pl[\"Sitios\"].to_pandas()\n",
    "#print(Resultados_df)\n",
    "# Impriniendo las columnas disponibles\n",
    "print(Sitios_df.columns)\n",
    "# Filtrando el dataframe por los sitios de interés\n",
    "Sitios_filtrados_df = Sitios_df[Sitios_df['CLAVE SITIO'].isin(Filtro)]\n",
    "# Agregando la columna NO MONITOREOS\n",
    "Sitios_filtrados_df = pd.merge(\n",
    "    Sitios_filtrados_df, \n",
    "    conteo_sitios, \n",
    "    left_on='CLAVE SITIO',  # Columna en Sitios_filtrados_df\n",
    "    right_on='CLAVE SITIO',  # Columna en conteo_sitios\n",
    "    how='left'  # Para mantener todos los registros de Sitios_filtrados_df\n",
    ")\n",
    "print(f'Tamaño del dataframe filtrado: {Sitios_filtrados_df.shape}')\n",
    "print(Sitios_filtrados_df[['CLAVE SITIO','LATITUD', 'LONGITUD', 'NO MONITOREOS']])"
   ]
  },
  {
   "cell_type": "code",
   "execution_count": 13,
   "id": "afca2251",
   "metadata": {},
   "outputs": [
    {
     "name": "stdout",
     "output_type": "stream",
     "text": [
      "Datos filtrados guardados en: ./Resultados/04_Tarea/Sitios_Filtrados.feather\n"
     ]
    }
   ],
   "source": [
    "# Guardar los resultados en formato feather para acceso rápido\n",
    "feather = './Resultados/04_Tarea/Sitios_Filtrados.feather'\n",
    "Sitios_filtrados_df.to_feather(feather)\n",
    "print(f\"Datos filtrados guardados en: {feather}\")"
   ]
  },
  {
   "cell_type": "code",
   "execution_count": 14,
   "id": "fa26e6b5",
   "metadata": {},
   "outputs": [
    {
     "name": "stdout",
     "output_type": "stream",
     "text": [
      "Sistema de coordenadas original: EPSG:4326\n"
     ]
    }
   ],
   "source": [
    "# Bibliotecas necesarias para cargar y visualizar datos geoespaciales\n",
    "import geopandas as gpd\n",
    "from folium import GeoJson\n",
    "\n",
    "# Límites geográficos de México\n",
    "lim_lat = (16.928088, 18.636030)  # (sur, norte)\n",
    "lim_lon = (-95.911567, -93.678068)  # (oeste, este)\n",
    "\n",
    "# Creación de mapa base\n",
    "mapa = folium.Map(location=[(lim_lat[0] + lim_lat[1])/2, (lim_lon[0] + lim_lon[1])/2],\n",
    "                 zoom_start=5,\n",
    "                 tiles=tesela,\n",
    "                 control_scale=True)\n",
    "\n",
    "mapa.fit_bounds([[lim_lat[0], lim_lon[0]], [lim_lat[1], lim_lon[1]]])\n",
    "\n",
    "# Shapefile como capa base\n",
    "ruta_shapefile = \"Datos/03_Tarea/Shapefile/Cuenca.shp\"\n",
    "\n",
    "# Cargar el shapefile como GeoDataFrame\n",
    "gdf = gpd.read_file(ruta_shapefile)\n",
    "\n",
    "# Verificar el sistema de coordenadas\n",
    "print(f\"Sistema de coordenadas original: {gdf.crs}\")\n",
    "\n",
    "# Si es necesario, transformar a WGS84 (sistema que usa Folium)\n",
    "if gdf.crs != \"EPSG:4326\":\n",
    "    gdf = gdf.to_crs(epsg=4326)\n",
    "    print(\"Coordenadas transformadas a WGS84\")\n",
    "\n",
    "# Añadir el shapefile al mapa\n",
    "GeoJson(\n",
    "    data=gdf,\n",
    "    style_function=lambda x: {\n",
    "        'fillColor': '#3388ff',\n",
    "        'color': '#004c99',\n",
    "        'weight': 2,\n",
    "        'fillOpacity': 0.2\n",
    "    },\n",
    "    tooltip=folium.GeoJsonTooltip(fields=['CVE_CUE'], labels=True),\n",
    "    name=\"Cuenca Coatzacoalcos\"\n",
    ").add_to(mapa)\n",
    "\n",
    "# Chuleando la tipografía del mapa (Respuesta generada usando L.L.M. Gemini 2.5)\n",
    "for _, sitio in Sitios_filtrados_df.iterrows():\n",
    "    # Crear HTML para el popup con formato mejorado y campos completos\n",
    "    html = f\"\"\"\n",
    "    <div style=\"font-family: Arial; max-width: 300px; padding: 10px;\">\n",
    "        <h4 style=\"color: #2c3e50; margin-bottom: 10px; border-bottom: 2px solid #3498db;\">{sitio[\"NOMBRE DEL SITIO\"]}</h4>\n",
    "        <table style=\"width: 100%; border-collapse: collapse;\">\n",
    "            <tr style=\"background-color: #f2f2f2;\">\n",
    "                <td style=\"padding: 4px; font-weight: bold;\">Clave sitio:</td>\n",
    "                <td>{sitio[\"CLAVE SITIO\"]}</td>\n",
    "            </tr>\n",
    "            <tr>\n",
    "                <td style=\"padding: 4px; font-weight: bold;\">Cuenca:</td>\n",
    "                <td>{sitio[\"CUENCA\"]}</td>\n",
    "            </tr>\n",
    "            <tr style=\"background-color: #f2f2f2;\">\n",
    "                <td style=\"padding: 4px; font-weight: bold;\">Clave Acuífero:</td>\n",
    "                <td>{sitio[\"CLAVE ACUÍFERO\"]}</td>\n",
    "            </tr>\n",
    "            <tr>\n",
    "                <td style=\"padding: 4px; font-weight: bold;\">Acuífero:</td>\n",
    "                <td>{sitio[\"ACUÍFERO\"]}</td>\n",
    "            </tr>\n",
    "            <tr style=\"background-color: #f2f2f2;\">\n",
    "                <td style=\"padding: 4px; font-weight: bold;\">Organismo Cuenca:</td>\n",
    "                <td>{sitio[\"ORGANISMO CUENCA\"]}</td>\n",
    "            </tr>\n",
    "            <tr>\n",
    "                <td style=\"padding: 4px; font-weight: bold;\">Dirección Local:</td>\n",
    "                <td>{sitio[\"DIRECCIÓN LOCAL\"]}</td>\n",
    "            </tr>\n",
    "            <tr style=\"background-color: #f2f2f2;\">\n",
    "                <td style=\"padding: 4px; font-weight: bold;\">Estado:</td>\n",
    "                <td>{sitio[\"ESTADO\"]}</td>\n",
    "            </tr>\n",
    "            <tr>\n",
    "                <td style=\"padding: 4px; font-weight: bold;\">Municipio:</td>\n",
    "                <td>{sitio[\"MUNICIPIO\"]}</td>\n",
    "            </tr>\n",
    "            <tr style=\"background-color: #f2f2f2;\">\n",
    "                <td style=\"padding: 4px; font-weight: bold;\">Cuerpo de agua:</td>\n",
    "                <td>{sitio[\"CUERPO DE AGUA\"]}</td>\n",
    "            </tr>\n",
    "            <tr>\n",
    "                <td style=\"padding: 4px; font-weight: bold;\">Tipo de cuerpo de agua:</td>\n",
    "                <td>{sitio[\"TIPO DE CUERPO DE AGUA\"]}</td>\n",
    "            </tr>\n",
    "            <tr style=\"background-color: #f2f2f2;\">\n",
    "                <td style=\"padding: 4px; font-weight: bold;\">Subtipo cuerpo agua:</td>\n",
    "                <td>{sitio[\"SUBTIPO CUERPO AGUA\"]}</td>\n",
    "            </tr>\n",
    "            <tr>\n",
    "                <td style=\"padding: 4px; font-weight: bold;\">Coordenadas:</td>\n",
    "                <td>{sitio[\"LATITUD\"]}, {sitio[\"LONGITUD\"]}</td>\n",
    "            </tr>\n",
    "            </tr>\n",
    "                <tr style=\"background-color: #f2f2f2;\">\n",
    "                <td style=\"padding: 4px; font-weight: bold;\">Monitoreos:</td>\n",
    "                <td>{sitio[\"NO MONITOREOS\"]}</td>\n",
    "            </tr>\n",
    "        </table>\n",
    "    </div>\n",
    "    \"\"\"\n",
    "    \n",
    "    # Crear el marcador encima del shapefile\n",
    "    folium.CircleMarker(\n",
    "        location=(sitio[\"LATITUD\"], sitio[\"LONGITUD\"]),\n",
    "        radius=5,\n",
    "        fill_color=\"blue\",\n",
    "        fill_opacity=0.6,\n",
    "        color=\"black\",\n",
    "        weight=1,\n",
    "        popup=folium.Popup(html, max_width=350)\n",
    "    ).add_to(mapa)\n",
    "\n",
    "# Control de capas e impresión de resultados\n",
    "folium.LayerControl().add_to(mapa)\n",
    "mapa.save(archivo_salida)"
   ]
  },
  {
   "cell_type": "code",
   "execution_count": 15,
   "id": "7809458f",
   "metadata": {},
   "outputs": [
    {
     "name": "stdout",
     "output_type": "stream",
     "text": [
      "Mapa guardado en: ./Resultados/04_Tarea/04_Mapa.html\n",
      "Se exportaron 18 sitios al mapa.\n",
      "\n",
      " La diferencia de tiempo entre Pandas y Polars es de 13.81 segundos a favor de Polars.\n"
     ]
    }
   ],
   "source": [
    "# Mensaje de resultados impresos\n",
    "print(f'Mapa guardado en: {archivo_salida}')\n",
    "print(f'Se exportaron {Sitios_filtrados_df.shape[0]} sitios al mapa.')\n",
    "print(f'\\n La diferencia de tiempo entre Pandas y Polars es de {tiempo_ejecucion_pandas - tiempo_ejecucion_polars:.2f} segundos a favor de Polars.')"
   ]
  },
  {
   "cell_type": "markdown",
   "id": "6961a6d9",
   "metadata": {},
   "source": [
    "#### **Resultados: Mapa generado**\n",
    "![Mapa](Resultados/04_Tarea/04_Mapa.png)"
   ]
  },
  {
   "cell_type": "markdown",
   "id": "2c0c10b9",
   "metadata": {},
   "source": [
    "---\n",
    "#### **Uso de `Polars` para el procesamiento de datos**\n",
    "\n",
    "[Polars](https://www.pola.rs/) es una biblioteca de análisis de datos de alto rendimiento implementada en Rust que ofrece una interfaz en Python. Se destaca por:\n",
    "\n",
    "1. **Rendimiento superior**: Generalmente más rápido que Pandas para operaciones en grandes conjuntos de datos.\n",
    "2. **Evaluación perezosa**: Optimiza las operaciones antes de ejecutarlas.\n",
    "3. **Procesamiento paralelo**: Aprovecha automáticamente múltiples núcleos del CPU.\n",
    "4. **API similar a Pandas**: Facilita la transición entre ambas bibliotecas.\n",
    "\n",
    "#### **Formato `Feather`**\n",
    "\n",
    "El formato [Feather](https://arrow.apache.org/docs/python/feather.html) es parte del proyecto Apache Arrow y ofrece:\n",
    "\n",
    "1. **Velocidad**: Lectura y escritura rápidas (5-10x más rápido que formatos como CSV o Excel).\n",
    "2. **Eficiencia de memoria**: Almacenamiento eficiente en disco y memoria.\n",
    "3. **Interoperabilidad**: Compatible con múltiples lenguajes como Python, R, Julia.\n",
    "4. **Preservación de tipos**: Mantiene los tipos de datos exactos sin conversiones.\n",
    "\n",
    "Feather es ideal para el almacenamiento intermedio de datos en flujos de trabajo de análisis de datos, especialmente cuando se trabaja con grandes conjuntos de datos."
   ]
  }
 ],
 "metadata": {
  "kernelspec": {
   "display_name": ".venv",
   "language": "python",
   "name": "python3"
  },
  "language_info": {
   "codemirror_mode": {
    "name": "ipython",
    "version": 3
   },
   "file_extension": ".py",
   "mimetype": "text/x-python",
   "name": "python",
   "nbconvert_exporter": "python",
   "pygments_lexer": "ipython3",
   "version": "3.12.4"
  }
 },
 "nbformat": 4,
 "nbformat_minor": 5
}
