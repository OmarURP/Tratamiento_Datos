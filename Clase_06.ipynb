{
 "cells": [
  {
   "cell_type": "markdown",
   "id": "def6e1e8",
   "metadata": {},
   "source": [
    "# **Tarea 05.- Lectura de archivos netCDF**\n",
    "---\n",
    "## *Subcoordinación de Posgrado y Educación Continua.*\n",
    "### [Instituto Mexicano de Tecnología del Agua](https://www.gob.mx/imta).<br>\n",
    "\n",
    "<img src=\"Imagenes/imta_logo.png\" style=\"height: 5em; vertical-align: middle;\">\n",
    "<img src=\"Imagenes/Mexico.jpg\" style=\"height: 5em; vertical-align: middle;\">\n",
    "\n",
    "**Alumno: Ing. Omar Ulises Robles Pereyra** <br>\n",
    "**Docente: Dr. Gabriel Ruiz Martinez** <br>\n",
    "\n",
    "[![Open In Colab](Imagenes/colab-badge.svg)](https://colab.research.google.com/github/OmarURP/Tratamiento_Datos/blob/master/Clase_06.ipynb)\n",
    "\n",
    "---\n",
    "\n",
    "#### **Basado en los apuntes del Dr. Gabriel Ruiz Martinez**\n",
    "\n",
    "**Descripción de la actividad:**\n",
    "- Proporcione un gráfico que muestre el árbol jerárquico del archivo netCDF que se adjunta a esta tarea. Se deben enlistar los valores de las dimensiones, variables, atributos y grupos para cada uno de los niveles; el gráfico debe ir acompañado de una explicación de la estructura jerárquica de este tipo de archivos. <br>\n",
    "\n",
    "**Objetivos de aprendizaje**\n",
    "- Comprender la estructura y componentes de los archivos netCDF, incluidas las dimensiones, las variables, los atributos y los grupos.\n",
    "- Desarrollar habilidades en la representación visual de datos mediante la creación de datos jerárquicos.\n",
    "- Mejorar la capacidad de explicar estructuras de datos complejas de manera clara y concisa.\n",
    "\n",
    "**Referencias:**<br>\n",
    "- https://docs.unidata.ucar.edu/nug/current/file_structure_and_performance.html<br>\n",
    "- https://docs.unidata.ucar.edu/netcdf-c/current/netcdf_data_model.html\n",
    "---"
   ]
  },
  {
   "cell_type": "markdown",
   "id": "f2452af3",
   "metadata": {},
   "source": [
    "### **Estructura y componentes de los archivos netCDF**\n",
    "El Modelo de Datos netCDF es la forma conceptual en que se piensa en los datos científicos, históricamente centrado en conjuntos de arrays relacionados. Este modelo se divide en dos categorías principales: el Modelo Clásico (utilizado desde la primera versión) y el Modelo de Datos Mejorado (introducido con netCDF-4.0)\n",
    "#### **1. Componentes Fundamentales (Modelo Clásico y Mejorado)**\n",
    "El núcleo de todo archivo netCDF, conocido como el Modelo Clásico, se compone de tres elementos esenciales que definen los metadatos y la estructura de los datos:<br>\n",
    "##### ***1.1 Dimensiones (Dimensions)***\n",
    "Las dimensiones describen los ejes de los arreglos de datos.\n",
    "- Definición: Una dimensión posee un nombre y una longitud.\n",
    "- Alcance: En el Modelo Clásico, un archivo netCDF puede tener a lo sumo una dimensión ilimitada (unlimited dimension).\n",
    "- Función: Una dimensión ilimitada tiene una longitud que se puede expandir en cualquier momento a medida que se escriben más datos. Las dimensiones se utilizan habitualmente para almacenar información de los ejes (como latitud, longitud, nivel y tiempo).\n",
    "##### ***1.2 Variables (Variables)***\n",
    "Las variables son los contenedores reales para los datos científicos.\n",
    "- Definición: Son arrays de datos N-dimensionales. Tienen un nombre y un conjunto asociado de dimensiones netCDF.\n",
    "- Tipos de Datos: Las variables en los archivos netCDF pueden ser de seis tipos clásicos: `char`, `byte`, `short`, `int`, `float`, y `double`.\n",
    "- Variables de Coordenadas: Es habitual agregar una variable para cada dimensión (por ejemplo, una variable latitud de una dimensión, utilizando latitud como su dimensión), que se denominan \"variables de coordenadas\".\n",
    "##### ***1.3 1.3. Atributos (Attributes)***\n",
    "Los atributos se utilizan para describir metadatos o anotaciones suplementarias.\n",
    "- Función: Anotan variables o el archivo completo (atributos globales) con notas o metadatos.\n",
    "- Estructura: Los atributos son siempre valores escalares o arrays unidimensionales (1D). Aunque no hay un límite estricto, se espera que los atributos sean pequeños.\n",
    "#### **2. La Estructura Física del Archivo netCDF Clásico**\n",
    "Un conjunto de datos netCDF clásico (incluidos los formatos CDF-1, 2 y 5) se almacena como un único archivo que consta de dos partes principales:\n",
    "##### 2.1 Encabezado (Header): Contiene toda la información sobre dimensiones, atributos y variables, excepto los datos de las variables.\n",
    "- El encabezado contiene la información para mapear los índices multidimensionales de cada variable a los offsets apropiados en el archivo.\n",
    "- Implicaciones de Rendimiento: El encabezado por defecto es compacto. Si una operación (como añadir nuevas dimensiones o variables) requiere que el encabezado crezca, se debe mover y copiar el resto de los datos en el archivo, lo cual es costoso y ocurre durante la función nc_enddef() después de nc_redef(). Para evitar este costo, se puede reservar espacio extra explícitamente en el encabezado al crearlo.\n",
    "##### 2.2 Parte de Datos (Data Part): Contiene los datos reales de las variables.\n",
    "- Datos de Tamaño Fijo: Contiene datos para variables que no emplean una dimensión ilimitada. El dato para cada variable se almacena de forma contigua en esta parte.\n",
    "- Datos de Registro (Record Data): Sigue a la parte de datos de tamaño fijo. Consiste en un número variable de registros de tamaño fijo, cada uno conteniendo los datos para todas las variables de registro (aquellas que utilizan la dimensión ilimitada).\n",
    "- Orden: Los datos de las variables aparecen en el archivo en el mismo orden en que fueron definidas (según su ID numérico de variable netCDF), lo cual puede ser utilizado para mejorar el rendimiento de acceso a los datos."
   ]
  },
  {
   "cell_type": "markdown",
   "id": "f965656c",
   "metadata": {},
   "source": [
    "<img src=\"Datos/06_Tarea/Imagen2.png\" style=\"height: 150em; vertical-align: middle;\">"
   ]
  }
 ],
 "metadata": {
  "kernelspec": {
   "display_name": ".venv",
   "language": "python",
   "name": "python3"
  },
  "language_info": {
   "codemirror_mode": {
    "name": "ipython",
    "version": 3
   },
   "file_extension": ".py",
   "mimetype": "text/x-python",
   "name": "python",
   "nbconvert_exporter": "python",
   "pygments_lexer": "ipython3",
   "version": "3.12.4"
  }
 },
 "nbformat": 4,
 "nbformat_minor": 5
}
