{
 "cells": [
  {
   "cell_type": "markdown",
   "id": "def6e1e8",
   "metadata": {},
   "source": [
    "# **Tarea 01.- Ajuste lineal usando Scipy**\n",
    "---\n",
    "## *Subcoordinación de Posgrado y Educación Continua.*\n",
    "### [Instituto Mexicano de Tecnología del Agua](https://www.gob.mx/imta).<br>\n",
    "\n",
    "<img src=\"Imagenes/imta_logo.png\" style=\"height: 5em; vertical-align: middle;\">\n",
    "<img src=\"Imagenes/Mexico.jpg\" style=\"height: 5em; vertical-align: middle;\">\n",
    "\n",
    "**Alumno: Ing. Omar Ulises Robles Pereyra** <br>\n",
    "**Docente: Dr. Gabriel Ruiz Martinez** <br>\n",
    "\n",
    "[![Open In Colab](https://colab.research.google.com/assets/colab-badge.svg)](https://colab.research.google.com/github/OmarURP/Incertidumbre/blob/main/Curso_Incetidumbre.ipynb)\n",
    "\n",
    "---\n",
    "\n",
    "#### **Instrucciones:**\n",
    "Completar y ejecutar el código que se encuentra en el archivo `ajuste_curvas_Scipy.py` usando los datos del archivo `exptermi.csv`. "
   ]
  },
  {
   "cell_type": "markdown",
   "id": "2d9627c6",
   "metadata": {},
   "source": [
    "#### **Importando las librerías necesarias:** <br>\n",
    "- `pandas` Manejo de dataframes.\n",
    "- `curve_fit` de `scipy` para ajuste de curvas.\n",
    "- `r2_score` de `sklearn.metrics` para calcular el coeficiente de determinación.\n",
    "- `matplotlib.pyplot` para graficación"
   ]
  },
  {
   "cell_type": "code",
   "execution_count": 10,
   "id": "f851499c",
   "metadata": {},
   "outputs": [],
   "source": [
    "import pandas as pd\n",
    "from scipy.optimize import curve_fit\n",
    "from sklearn.metrics import r2_score\n",
    "import matplotlib.pyplot as plt"
   ]
  },
  {
   "cell_type": "markdown",
   "id": "096c60ba",
   "metadata": {},
   "source": [
    "#### **Regresión en mínimos cuadrados**\n",
    "\n",
    "Cuando tenemos un conjunto de datos, a menudo queremos encontrar una línea o curva que represente la tendencia general de esos datos. El método de regresión por mínimos cuadrados nos ayuda a hacer exactamente eso: **encontrar la función matemática que mejor se ajusta a nuestros puntos**. <br>\n",
    "\n",
    "Principio: Se busca minimizar la suma de los cuadrados de las diferencias verticales (llamadas \"residuos\" o \"errores\") entre los valores reales de nuestros datos y los valores que predice nuestra función.<br>\n",
    "\n",
    "El caso más común es ajustar datos a una línea recta, que tiene la forma:\n",
    "$$y=Ax+B$$\n",
    "Nuestro objetivo es encontrar los coeficientes $A$ (pendiente de la recta) y $B$ (intercepción con el eje y), que hagan que la línea pase ***\"lo más cerca\"*** posible de todos los puntos a la vez."
   ]
  },
  {
   "cell_type": "code",
   "execution_count": 11,
   "id": "a22e574b",
   "metadata": {},
   "outputs": [],
   "source": [
    "# Definición del modelo lineal\n",
    "def model01(x, m, b):\n",
    "    return (m*x) + b"
   ]
  },
  {
   "cell_type": "code",
   "execution_count": 12,
   "id": "d7318923",
   "metadata": {},
   "outputs": [
    {
     "name": "stdout",
     "output_type": "stream",
     "text": [
      "Cargado archivo: ./Datos/exptermi.csv\n"
     ]
    }
   ],
   "source": [
    "# Cargando los datos desde el archivo CSV\n",
    "namefile = './Datos/exptermi.csv'\n",
    "print(f\"Cargado archivo: {namefile}\")"
   ]
  },
  {
   "cell_type": "code",
   "execution_count": 13,
   "id": "e0342ed2",
   "metadata": {},
   "outputs": [
    {
     "name": "stdout",
     "output_type": "stream",
     "text": [
      "     0      1\n",
      "0    0  6.495\n",
      "1    1  6.665\n",
      "2    2  6.755\n",
      "3    3  6.565\n",
      "4    4  6.595\n",
      "5    5  6.505\n",
      "6    6  6.625\n",
      "7    7  6.515\n",
      "8    8  6.635\n",
      "9    9  6.625\n",
      "10  10  6.715\n",
      "11  11  6.555\n",
      "12  12  6.635\n",
      "13  13  6.625\n",
      "14  14  6.575\n",
      "15  15  6.395\n",
      "16  16  6.485\n",
      "17  17  6.715\n",
      "18  18  6.655\n",
      "19  19  6.775\n",
      "20  20  6.555\n",
      "21  21  6.655\n",
      "22  22  6.605\n",
      "23  23  6.685\n"
     ]
    }
   ],
   "source": [
    "# Cargando los datos con pandas\n",
    "datos = pd.read_csv(namefile, sep=r',', header=None)\n",
    "print(datos)"
   ]
  },
  {
   "cell_type": "markdown",
   "id": "f735f64b",
   "metadata": {},
   "source": [
    "#### **Renombrando las columnas**\n",
    "- Columna 0 = 'nrm'\n",
    "- Columna 1 = 'v'"
   ]
  },
  {
   "cell_type": "code",
   "execution_count": 14,
   "id": "da5404cc",
   "metadata": {},
   "outputs": [
    {
     "name": "stdout",
     "output_type": "stream",
     "text": [
      "    nrm      v\n",
      "0     0  6.495\n",
      "1     1  6.665\n",
      "2     2  6.755\n",
      "3     3  6.565\n",
      "4     4  6.595\n",
      "5     5  6.505\n",
      "6     6  6.625\n",
      "7     7  6.515\n",
      "8     8  6.635\n",
      "9     9  6.625\n",
      "10   10  6.715\n",
      "11   11  6.555\n",
      "12   12  6.635\n",
      "13   13  6.625\n",
      "14   14  6.575\n",
      "15   15  6.395\n",
      "16   16  6.485\n",
      "17   17  6.715\n",
      "18   18  6.655\n",
      "19   19  6.775\n",
      "20   20  6.555\n",
      "21   21  6.655\n",
      "22   22  6.605\n",
      "23   23  6.685\n"
     ]
    }
   ],
   "source": [
    "# Renombrando la columna 0 por 'nrm' y la columna 1 por 'v'\n",
    "datos = datos.rename(columns={0: 'nrm', 1: 'v'})\n",
    "print(datos)"
   ]
  },
  {
   "cell_type": "code",
   "execution_count": 15,
   "id": "13bdb887",
   "metadata": {},
   "outputs": [
    {
     "name": "stdout",
     "output_type": "stream",
     "text": [
      "x= [6.495 6.665 6.755 6.565 6.595 6.505 6.625 6.515 6.635 6.625 6.715 6.555\n",
      " 6.635 6.625 6.575 6.395 6.485 6.715 6.655 6.775 6.555 6.655 6.605 6.685]\n",
      "y= [ 0  1  2  3  4  5  6  7  8  9 10 11 12 13 14 15 16 17 18 19 20 21 22 23]\n"
     ]
    },
    {
     "data": {
      "image/png": "[encoded data removed]",
      "text/plain": [
       "<Figure size 640x480 with 1 Axes>"
      ]
     },
     "metadata": {},
     "output_type": "display_data"
    }
   ],
   "source": [
    "# Asignando los valores de las columnas x='v' y y='nrm'\n",
    "x = datos['v'].values\n",
    "y = datos['nrm'].values\n",
    "print(f\"x= {x}\")\n",
    "print(f\"y= {y}\")\n",
    "\n",
    "# Graficando los datos\n",
    "plt.scatter(x, y, label='Datos', color='blue')\n",
    "plt.xlabel('$v$')\n",
    "plt.ylabel('$nrm$')\n",
    "plt.title('Datos de archivo CSV')\n",
    "plt.legend()\n",
    "plt.grid()\n",
    "plt.show()"
   ]
  },
  {
   "cell_type": "markdown",
   "id": "a72fb253",
   "metadata": {},
   "source": [
    "#### **Función [scipy.optimize.curve_fit](https://docs.scipy.org/doc/scipy/reference/generated/scipy.optimize.curve_fit.html)**\n",
    "`Curve_fit` automatiza el proceso de encontrar los parámetros de una función que mejor se ajusten a nuestros datos. En lugar de que nosotros tengamos que calcular todas las sumatorias para los coeficientes A y B, curve_fit lo hace por nosotros. No está limitada a líneas rectas, es posible usarla para ajustarla a funciones matemáticas como: exponencial, logarítmica, seno, etc.) <br>\n",
    "Los parámetros de entrada de la función son:<br>\n",
    "\n",
    "**curve_fit($f$, $xdata$, $ydata$)**<br>\n",
    "Donde: $f$ es la función matemática, $xdata$ es la variable independiente e $y$ es la variable dependiente. <br>\n",
    "\n",
    "La función devuelve dos resultados:\n",
    "- `popt:` Es un arreglo con los valores óptimos de los parámetros **A y B** enunciados en celdas anteriores.\n",
    "- `pcov:` Una matriz de **covarianza**, que mide la relación entre los parámetros calculados.\n"
   ]
  },
  {
   "cell_type": "code",
   "execution_count": 16,
   "id": "61a3727c",
   "metadata": {},
   "outputs": [
    {
     "name": "stdout",
     "output_type": "stream",
     "text": [
      "popt= [ 11.31553567 -63.28154641]\n",
      "--------\n",
      "pcov= [[  269.93448417 -1783.92951561]\n",
      " [-1783.92951561 11791.6762033 ]]\n",
      "--------\n",
      "y_pred= [10.21285779 12.13649885 13.15489706 11.00494528 11.34441135 10.32601314\n",
      " 11.68387742 10.4391685  11.79703278 11.68387742 12.70227563 10.89178993\n",
      " 11.79703278 11.68387742 11.11810064  9.08130422 10.09970243 12.70227563\n",
      " 12.02334349 13.38120777 10.89178993 12.02334349 11.45756671 12.36280956]\n",
      "--------\n"
     ]
    },
    {
     "data": {
      "image/png": "[encoded data removed]",
      "text/plain": [
       "<Figure size 640x480 with 1 Axes>"
      ]
     },
     "metadata": {},
     "output_type": "display_data"
    },
    {
     "name": "stdout",
     "output_type": "stream",
     "text": [
      "--------\n",
      "Ecuacion de ajuste:\n",
      "y = 11.3155 * x  + (-63.2815) con R^2 = 0.0211\n"
     ]
    }
   ],
   "source": [
    "popt, pcov = curve_fit(model01, x, y)\n",
    "print(f\"popt= {popt}\")\n",
    "print(\"--------\")\n",
    "print(f\"pcov= {pcov}\")\n",
    "print(\"--------\")\n",
    "\n",
    "y_pred = (popt[0]*x) + popt[1]\n",
    "print(f\"y_pred= {y_pred}\")\n",
    "print(\"--------\")\n",
    "# Calculando el coeficiente de determinación R^2\n",
    "coef_deter = r2_score(y, y_pred)\n",
    "#print(f'R^2 = {coef_deter:.4f}')\n",
    "\n",
    "\n",
    "# Graficando los datos y la recta de ajuste\n",
    "plt.scatter(x, y, label='Datos', color='blue')\n",
    "plt.plot(x, y_pred, 'g-', label='Ajuste Lineal')\n",
    "plt.xlabel('v')\n",
    "plt.ylabel('nrm')\n",
    "plt.title('Ajuste Lineal de Datos')\n",
    "plt.legend()\n",
    "plt.grid()\n",
    "plt.show()\n",
    "print(\"--------\")\n",
    "print(\"Ecuacion de ajuste:\")\n",
    "# Imprimiendo la ecuacion de ajuste\n",
    "print(f\"y = {popt[0]:.4f} * x  + ({popt[1]:.4f}) con R^2 = {coef_deter:.4f}\")"
   ]
  },
  {
   "cell_type": "markdown",
   "id": "27fa22a4",
   "metadata": {},
   "source": [
    "#### **Comparando resultados con Excel**\n",
    "![Excel_png](Imagenes/Excel.png)"
   ]
  },
  {
   "cell_type": "markdown",
   "id": "36625a8d",
   "metadata": {},
   "source": [
    "### **Anexo: Covarianza**\n",
    "La covarianza es una medida estadística que indica la relación entre dos variables. Nos dice cómo cambian dos variables juntas, si tienden a aumentar o disminuir simultáneamente, o si aumenta mientras la otra disminuye. En otras palabras, la covarianza muestra la dirección de la relación entre dos variables.\n",
    "- **Covarianza positiva:** Indica que las variables tienden a moverse en la misma dirección. Cuando una aumenta, la otra también tiende a aumentar, y viceversa.\n",
    "- **Covarianza negativa:** Indica que las variables tienden a moverse en direcciones opuestas. Cuando una aumenta, la otra tiende a disminuir, y viceversa.\n",
    "- **Covarianza cero:** Indica que no hay una relación lineal clara entre las variables, o que no existe una relación lineal.\n",
    "\n",
    "**Ejemplo:** Si medimos el tiempo que alguien dedica a estudiar y su calificación en un examen, podríamos esperar una covarianza positiva, ya que a más tiempo dedicado al estudio, generalmente se obtiene una mejor calificación. "
   ]
  }
 ],
 "metadata": {
  "kernelspec": {
   "display_name": ".venv",
   "language": "python",
   "name": "python3"
  },
  "language_info": {
   "codemirror_mode": {
    "name": "ipython",
    "version": 3
   },
   "file_extension": ".py",
   "mimetype": "text/x-python",
   "name": "python",
   "nbconvert_exporter": "python",
   "pygments_lexer": "ipython3",
   "version": "3.12.4"
  }
 },
 "nbformat": 4,
 "nbformat_minor": 5
}
